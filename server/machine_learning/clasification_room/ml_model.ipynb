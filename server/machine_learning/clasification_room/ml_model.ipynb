{
 "cells": [
  {
   "cell_type": "code",
   "execution_count": 2,
   "id": "50c51008-2c1f-4696-b727-872a07a685ab",
   "metadata": {},
   "outputs": [],
   "source": [
    "import pandas as pd\n",
    "import os\n",
    "\n",
    "base_dir = '../data/room'"
   ]
  },
  {
   "cell_type": "code",
   "execution_count": 3,
   "id": "315a2be4-eb57-4d97-98d2-8fd1e9d965fc",
   "metadata": {},
   "outputs": [],
   "source": [
    "# mengambil data gamber yang telah di bagi dala base directory\n",
    "train_dir = os.path.join(base_dir, 'train')\n",
    "val_dir = os.path.join(base_dir, 'val')"
   ]
  },
  {
   "cell_type": "code",
   "execution_count": 4,
   "id": "416ea160-bd1b-42c2-9dab-c30577d56ea9",
   "metadata": {},
   "outputs": [],
   "source": [
    "# malakukan image prepocesing dengan keras\n",
    "from tensorflow.keras.preprocessing.image import ImageDataGenerator\n",
    "train_datagen = ImageDataGenerator(\n",
    "    rescale=1./225,\n",
    "    rotation_range=20,\n",
    "    horizontal_flip=True,\n",
    "    shear_range=0.2,\n",
    "    fill_mode='nearest'\n",
    ")\n",
    "\n",
    "val_datagen = ImageDataGenerator(\n",
    "    rescale=1./225\n",
    ")"
   ]
  },
  {
   "cell_type": "code",
   "execution_count": 5,
   "id": "0a0a6b7c-ae52-48c1-8808-1adeaa13398c",
   "metadata": {},
   "outputs": [
    {
     "name": "stdout",
     "output_type": "stream",
     "text": [
      "Found 192 images belonging to 2 classes.\n",
      "Found 20 images belonging to 2 classes.\n"
     ]
    }
   ],
   "source": [
    "# menyiapkan data train dan val dari directory\n",
    "train_generator = train_datagen.flow_from_directory(\n",
    "    train_dir,\n",
    "    target_size=(150, 150),\n",
    "    batch_size=4,\n",
    "    class_mode='binary'\n",
    ")\n",
    "\n",
    "val_generator = val_datagen.flow_from_directory(\n",
    "    val_dir,\n",
    "    target_size=(150, 150),\n",
    "    batch_size=4,\n",
    "    class_mode='binary'\n",
    ")"
   ]
  },
  {
   "cell_type": "code",
   "execution_count": 6,
   "id": "c1b72878-1249-41d3-a2a6-3c7602c22cdd",
   "metadata": {},
   "outputs": [
    {
     "name": "stdout",
     "output_type": "stream",
     "text": [
      "Model: \"sequential\"\n",
      "_________________________________________________________________\n",
      " Layer (type)                Output Shape              Param #   \n",
      "=================================================================\n",
      " conv2d (Conv2D)             (None, 148, 148, 32)      896       \n",
      "                                                                 \n",
      " max_pooling2d (MaxPooling2  (None, 74, 74, 32)        0         \n",
      " D)                                                              \n",
      "                                                                 \n",
      " conv2d_1 (Conv2D)           (None, 72, 72, 64)        18496     \n",
      "                                                                 \n",
      " max_pooling2d_1 (MaxPoolin  (None, 36, 36, 64)        0         \n",
      " g2D)                                                            \n",
      "                                                                 \n",
      " conv2d_2 (Conv2D)           (None, 34, 34, 128)       73856     \n",
      "                                                                 \n",
      " max_pooling2d_2 (MaxPoolin  (None, 17, 17, 128)       0         \n",
      " g2D)                                                            \n",
      "                                                                 \n",
      " conv2d_3 (Conv2D)           (None, 15, 15, 152)       175256    \n",
      "                                                                 \n",
      " max_pooling2d_3 (MaxPoolin  (None, 7, 7, 152)         0         \n",
      " g2D)                                                            \n",
      "                                                                 \n",
      " flatten (Flatten)           (None, 7448)              0         \n",
      "                                                                 \n",
      " dense (Dense)               (None, 512)               3813888   \n",
      "                                                                 \n",
      " dense_1 (Dense)             (None, 1)                 513       \n",
      "                                                                 \n",
      "=================================================================\n",
      "Total params: 4082905 (15.58 MB)\n",
      "Trainable params: 4082905 (15.58 MB)\n",
      "Non-trainable params: 0 (0.00 Byte)\n",
      "_________________________________________________________________\n"
     ]
    }
   ],
   "source": [
    "# melakukan clasifikasi gambar\n",
    "import keras\n",
    "model = keras.models.Sequential([\n",
    "    keras.layers.Conv2D(32, (3, 3), activation='relu', input_shape=(150, 150, 3)),\n",
    "    keras.layers.MaxPooling2D(2, 2),\n",
    "    keras.layers.Conv2D(64, (3, 3), activation='relu'),\n",
    "    keras.layers.MaxPooling2D(2, 2),\n",
    "    keras.layers.Conv2D(128, (3, 3), activation='relu'),\n",
    "    keras.layers.MaxPooling2D(2, 2),\n",
    "    keras.layers.Conv2D(152, (3, 3), activation='relu'),\n",
    "    keras.layers.MaxPooling2D(2, 2),\n",
    "    keras.layers.Flatten(),\n",
    "    keras.layers.Dense(512, activation='relu'),\n",
    "    keras.layers.Dense(1, activation='sigmoid')\n",
    "])\n",
    "model.summary()"
   ]
  },
  {
   "cell_type": "code",
   "execution_count": 7,
   "id": "6c2eea6c-b203-4047-916f-43bacfef820c",
   "metadata": {},
   "outputs": [],
   "source": [
    "# kompile model dengan adam optimizer loss function\n",
    "import tensorflow as tf\n",
    "model.compile(\n",
    "    loss='binary_crossentropy',\n",
    "    optimizer= tf.optimizers.Adam(),\n",
    "    metrics=['accuracy']\n",
    ")"
   ]
  },
  {
   "cell_type": "code",
   "execution_count": 8,
   "id": "ac1aebc8-4722-42c7-b155-dc67a62d9d3e",
   "metadata": {},
   "outputs": [
    {
     "name": "stdout",
     "output_type": "stream",
     "text": [
      "Epoch 1/20\n",
      "25/25 - 8s - loss: 0.7392 - accuracy: 0.5600 - val_loss: 0.7073 - val_accuracy: 0.5000 - 8s/epoch - 317ms/step\n",
      "Epoch 2/20\n",
      "25/25 - 5s - loss: 0.6973 - accuracy: 0.4900 - val_loss: 0.6868 - val_accuracy: 0.8000 - 5s/epoch - 211ms/step\n",
      "Epoch 3/20\n",
      "25/25 - 5s - loss: 0.6984 - accuracy: 0.6400 - val_loss: 0.6971 - val_accuracy: 0.5000 - 5s/epoch - 200ms/step\n",
      "Epoch 4/20\n",
      "25/25 - 5s - loss: 0.6576 - accuracy: 0.5300 - val_loss: 1.7220 - val_accuracy: 0.5000 - 5s/epoch - 208ms/step\n",
      "Epoch 5/20\n",
      "25/25 - 5s - loss: 0.8308 - accuracy: 0.4500 - val_loss: 0.6930 - val_accuracy: 0.5000 - 5s/epoch - 195ms/step\n",
      "Epoch 6/20\n",
      "25/25 - 5s - loss: 0.6929 - accuracy: 0.6000 - val_loss: 0.6914 - val_accuracy: 0.7500 - 5s/epoch - 196ms/step\n",
      "Epoch 7/20\n",
      "25/25 - 6s - loss: 0.6927 - accuracy: 0.5300 - val_loss: 0.6842 - val_accuracy: 0.6500 - 6s/epoch - 228ms/step\n",
      "Epoch 8/20\n",
      "25/25 - 5s - loss: 0.7100 - accuracy: 0.6300 - val_loss: 0.6864 - val_accuracy: 0.6000 - 5s/epoch - 199ms/step\n",
      "Epoch 9/20\n",
      "25/25 - 5s - loss: 0.7017 - accuracy: 0.5100 - val_loss: 0.6907 - val_accuracy: 0.5000 - 5s/epoch - 186ms/step\n",
      "Epoch 10/20\n",
      "25/25 - 5s - loss: 0.6943 - accuracy: 0.5100 - val_loss: 0.6905 - val_accuracy: 0.5000 - 5s/epoch - 217ms/step\n",
      "Epoch 11/20\n",
      "25/25 - 6s - loss: 0.6907 - accuracy: 0.5500 - val_loss: 0.6723 - val_accuracy: 0.8000 - 6s/epoch - 226ms/step\n",
      "Epoch 12/20\n",
      "25/25 - 4s - loss: 0.6681 - accuracy: 0.6000 - val_loss: 0.6208 - val_accuracy: 0.7500 - 4s/epoch - 177ms/step\n",
      "Epoch 13/20\n",
      "25/25 - 5s - loss: 0.6322 - accuracy: 0.6800 - val_loss: 0.6720 - val_accuracy: 0.5500 - 5s/epoch - 215ms/step\n",
      "Epoch 14/20\n",
      "25/25 - 4s - loss: 0.6177 - accuracy: 0.6300 - val_loss: 0.7160 - val_accuracy: 0.7000 - 4s/epoch - 169ms/step\n",
      "Epoch 15/20\n",
      "25/25 - 5s - loss: 0.6275 - accuracy: 0.6000 - val_loss: 0.6344 - val_accuracy: 0.4500 - 5s/epoch - 199ms/step\n",
      "Epoch 16/20\n",
      "25/25 - 5s - loss: 0.6953 - accuracy: 0.6300 - val_loss: 0.6502 - val_accuracy: 0.6500 - 5s/epoch - 203ms/step\n",
      "Epoch 17/20\n",
      "25/25 - 5s - loss: 0.6742 - accuracy: 0.5500 - val_loss: 0.6615 - val_accuracy: 0.5000 - 5s/epoch - 198ms/step\n",
      "Epoch 18/20\n",
      "25/25 - 5s - loss: 0.5579 - accuracy: 0.7200 - val_loss: 0.4623 - val_accuracy: 0.8500 - 5s/epoch - 219ms/step\n",
      "Epoch 19/20\n",
      "25/25 - 5s - loss: 0.6432 - accuracy: 0.7700 - val_loss: 0.5567 - val_accuracy: 0.9000 - 5s/epoch - 214ms/step\n",
      "Epoch 20/20\n",
      "25/25 - 5s - loss: 0.5376 - accuracy: 0.7700 - val_loss: 0.6642 - val_accuracy: 0.5500 - 5s/epoch - 186ms/step\n"
     ]
    },
    {
     "data": {
      "text/plain": [
       "<keras.src.callbacks.History at 0x1cd4be45410>"
      ]
     },
     "execution_count": 8,
     "metadata": {},
     "output_type": "execute_result"
    }
   ],
   "source": [
    "# sekrang kita untuk melatih model\n",
    "model.fit(\n",
    "    train_generator,\n",
    "    steps_per_epoch=25,\n",
    "    epochs=20,\n",
    "    validation_data=val_generator,\n",
    "    validation_steps=5,\n",
    "    verbose=2\n",
    ")"
   ]
  },
  {
   "cell_type": "code",
   "execution_count": 9,
   "id": "3e54d340-981b-4d8f-b07f-835df843a9c6",
   "metadata": {},
   "outputs": [],
   "source": [
    "!mkdir saved_models"
   ]
  },
  {
   "cell_type": "code",
   "execution_count": 10,
   "id": "c377f1a6-b3ba-4dc4-9956-e452ffd36e4b",
   "metadata": {},
   "outputs": [
    {
     "data": {
      "text/plain": [
       "['./saved_models/model.joblib']"
      ]
     },
     "execution_count": 10,
     "metadata": {},
     "output_type": "execute_result"
    }
   ],
   "source": [
    "from joblib import dump\n",
    "dump(model, './saved_models/model.joblib')"
   ]
  },
  {
   "cell_type": "code",
   "execution_count": null,
   "id": "7d7211ec-1f64-439a-bb98-b04fe22b2dea",
   "metadata": {},
   "outputs": [],
   "source": []
  }
 ],
 "metadata": {
  "kernelspec": {
   "display_name": "Python 3 (ipykernel)",
   "language": "python",
   "name": "python3"
  },
  "language_info": {
   "codemirror_mode": {
    "name": "ipython",
    "version": 3
   },
   "file_extension": ".py",
   "mimetype": "text/x-python",
   "name": "python",
   "nbconvert_exporter": "python",
   "pygments_lexer": "ipython3",
   "version": "3.11.5"
  },
  "widgets": {
   "application/vnd.jupyter.widget-state+json": {
    "state": {},
    "version_major": 2,
    "version_minor": 0
   }
  }
 },
 "nbformat": 4,
 "nbformat_minor": 5
}
